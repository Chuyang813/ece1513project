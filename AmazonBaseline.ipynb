{
 "cells": [
  {
   "cell_type": "code",
   "execution_count": 3,
   "metadata": {},
   "outputs": [],
   "source": [
    "import pandas as pd\n",
    "import numpy as np\n",
    "from surprise import Dataset, Reader\n",
    "from surprise import SVD, KNNBasic, accuracy\n",
    "from surprise.model_selection import train_test_split\n",
    "import collections\n",
    "from collections import defaultdict\n",
    "import math"
   ]
  },
  {
   "cell_type": "code",
   "execution_count": 4,
   "metadata": {},
   "outputs": [],
   "source": [
    "book = pd.read_csv('Amazon_Books_Scraping/Books_df.csv')\n",
    "book.insert(0, 'book_id', range(len(book)))\n",
    "# genre = pd.read_csv('Amazon_Books_Scraping/Genre_df.csv')\n",
    "# sub_genre = pd.read_csv('Amazon_Books_Scraping/Sub_Genre_df.csv')"
   ]
  },
  {
   "cell_type": "code",
   "execution_count": 5,
   "metadata": {},
   "outputs": [
    {
     "data": {
      "text/html": [
       "<div>\n",
       "<style scoped>\n",
       "    .dataframe tbody tr th:only-of-type {\n",
       "        vertical-align: middle;\n",
       "    }\n",
       "\n",
       "    .dataframe tbody tr th {\n",
       "        vertical-align: top;\n",
       "    }\n",
       "\n",
       "    .dataframe thead th {\n",
       "        text-align: right;\n",
       "    }\n",
       "</style>\n",
       "<table border=\"1\" class=\"dataframe\">\n",
       "  <thead>\n",
       "    <tr style=\"text-align: right;\">\n",
       "      <th></th>\n",
       "      <th>book_id</th>\n",
       "      <th>Unnamed: 0</th>\n",
       "      <th>Title</th>\n",
       "      <th>Author</th>\n",
       "      <th>Main Genre</th>\n",
       "      <th>Sub Genre</th>\n",
       "      <th>Type</th>\n",
       "      <th>Price</th>\n",
       "      <th>Rating</th>\n",
       "      <th>No. of People rated</th>\n",
       "      <th>URLs</th>\n",
       "    </tr>\n",
       "  </thead>\n",
       "  <tbody>\n",
       "    <tr>\n",
       "      <th>0</th>\n",
       "      <td>0</td>\n",
       "      <td>0</td>\n",
       "      <td>The Complete Novel of Sherlock Holmes</td>\n",
       "      <td>Arthur Conan Doyle</td>\n",
       "      <td>Arts, Film &amp; Photography</td>\n",
       "      <td>Cinema &amp; Broadcast</td>\n",
       "      <td>Paperback</td>\n",
       "      <td>₹169.00</td>\n",
       "      <td>4.4</td>\n",
       "      <td>19923.0</td>\n",
       "      <td>https://www.amazon.in/Complete-Novels-Sherlock...</td>\n",
       "    </tr>\n",
       "    <tr>\n",
       "      <th>1</th>\n",
       "      <td>1</td>\n",
       "      <td>1</td>\n",
       "      <td>Black Holes (L) : The Reith Lectures [Paperbac...</td>\n",
       "      <td>Stephen Hawking</td>\n",
       "      <td>Arts, Film &amp; Photography</td>\n",
       "      <td>Cinema &amp; Broadcast</td>\n",
       "      <td>Paperback</td>\n",
       "      <td>₹99.00</td>\n",
       "      <td>4.5</td>\n",
       "      <td>7686.0</td>\n",
       "      <td>https://www.amazon.in/Black-Holes-Lectures-Ste...</td>\n",
       "    </tr>\n",
       "    <tr>\n",
       "      <th>2</th>\n",
       "      <td>2</td>\n",
       "      <td>2</td>\n",
       "      <td>The Kite Runner</td>\n",
       "      <td>Khaled Hosseini</td>\n",
       "      <td>Arts, Film &amp; Photography</td>\n",
       "      <td>Cinema &amp; Broadcast</td>\n",
       "      <td>Kindle Edition</td>\n",
       "      <td>₹175.75</td>\n",
       "      <td>4.6</td>\n",
       "      <td>50016.0</td>\n",
       "      <td>https://www.amazon.in/Kite-Runner-Khaled-Hosse...</td>\n",
       "    </tr>\n",
       "    <tr>\n",
       "      <th>3</th>\n",
       "      <td>3</td>\n",
       "      <td>3</td>\n",
       "      <td>Greenlights: Raucous stories and outlaw wisdom...</td>\n",
       "      <td>Matthew McConaughey</td>\n",
       "      <td>Arts, Film &amp; Photography</td>\n",
       "      <td>Cinema &amp; Broadcast</td>\n",
       "      <td>Paperback</td>\n",
       "      <td>₹389.00</td>\n",
       "      <td>4.6</td>\n",
       "      <td>32040.0</td>\n",
       "      <td>https://www.amazon.in/Greenlights-Raucous-stor...</td>\n",
       "    </tr>\n",
       "    <tr>\n",
       "      <th>4</th>\n",
       "      <td>4</td>\n",
       "      <td>4</td>\n",
       "      <td>The Science of Storytelling: Why Stories Make ...</td>\n",
       "      <td>Will Storr</td>\n",
       "      <td>Arts, Film &amp; Photography</td>\n",
       "      <td>Cinema &amp; Broadcast</td>\n",
       "      <td>Paperback</td>\n",
       "      <td>₹348.16</td>\n",
       "      <td>4.5</td>\n",
       "      <td>1707.0</td>\n",
       "      <td>https://www.amazon.in/Science-Storytelling-Wil...</td>\n",
       "    </tr>\n",
       "  </tbody>\n",
       "</table>\n",
       "</div>"
      ],
      "text/plain": [
       "   book_id  Unnamed: 0                                              Title  \\\n",
       "0        0           0              The Complete Novel of Sherlock Holmes   \n",
       "1        1           1  Black Holes (L) : The Reith Lectures [Paperbac...   \n",
       "2        2           2                                    The Kite Runner   \n",
       "3        3           3  Greenlights: Raucous stories and outlaw wisdom...   \n",
       "4        4           4  The Science of Storytelling: Why Stories Make ...   \n",
       "\n",
       "                Author                Main Genre           Sub Genre  \\\n",
       "0   Arthur Conan Doyle  Arts, Film & Photography  Cinema & Broadcast   \n",
       "1      Stephen Hawking  Arts, Film & Photography  Cinema & Broadcast   \n",
       "2      Khaled Hosseini  Arts, Film & Photography  Cinema & Broadcast   \n",
       "3  Matthew McConaughey  Arts, Film & Photography  Cinema & Broadcast   \n",
       "4           Will Storr  Arts, Film & Photography  Cinema & Broadcast   \n",
       "\n",
       "             Type    Price  Rating  No. of People rated  \\\n",
       "0       Paperback  ₹169.00     4.4              19923.0   \n",
       "1       Paperback   ₹99.00     4.5               7686.0   \n",
       "2  Kindle Edition  ₹175.75     4.6              50016.0   \n",
       "3       Paperback  ₹389.00     4.6              32040.0   \n",
       "4       Paperback  ₹348.16     4.5               1707.0   \n",
       "\n",
       "                                                URLs  \n",
       "0  https://www.amazon.in/Complete-Novels-Sherlock...  \n",
       "1  https://www.amazon.in/Black-Holes-Lectures-Ste...  \n",
       "2  https://www.amazon.in/Kite-Runner-Khaled-Hosse...  \n",
       "3  https://www.amazon.in/Greenlights-Raucous-stor...  \n",
       "4  https://www.amazon.in/Science-Storytelling-Wil...  "
      ]
     },
     "execution_count": 5,
     "metadata": {},
     "output_type": "execute_result"
    }
   ],
   "source": [
    "book.head()"
   ]
  },
  {
   "cell_type": "code",
   "execution_count": 6,
   "metadata": {},
   "outputs": [],
   "source": [
    "df_book = book[['book_id', 'Main Genre', 'Rating']].copy()\n",
    "reader = Reader(rating_scale=(1, 5))\n",
    "dataset = Dataset.load_from_df(df_book, reader)\n",
    "\n",
    "train_set, test_set = train_test_split(dataset, test_size=0.2, random_state=21)"
   ]
  },
  {
   "cell_type": "code",
   "execution_count": 7,
   "metadata": {},
   "outputs": [
    {
     "name": "stdout",
     "output_type": "stream",
     "text": [
      "Computing the cosine similarity matrix...\n",
      "Done computing similarity matrix.\n",
      "RMSE: 0.8982\n",
      "KNN RMSE: 0.8981812842972066\n"
     ]
    }
   ],
   "source": [
    "sim_options = {\n",
    "    'name': 'cosine',\n",
    "    'user_based': False\n",
    "}\n",
    "\n",
    "model_knn = KNNBasic(sim_options=sim_options)\n",
    "model_knn.fit(train_set)\n",
    "pred_knn = model_knn.test(test_set)\n",
    "rmse_knn = accuracy.rmse(pred_knn)\n",
    "print('KNN RMSE:', rmse_knn)"
   ]
  },
  {
   "cell_type": "code",
   "execution_count": 8,
   "metadata": {},
   "outputs": [
    {
     "name": "stdout",
     "output_type": "stream",
     "text": [
      "RMSE: 0.8527\n",
      "SVD RMSE: 0.8526609552315656\n"
     ]
    }
   ],
   "source": [
    "model_svd = SVD()\n",
    "model_svd.fit(train_set)\n",
    "pred_svd = model_svd.test(test_set)\n",
    "rmse_svd = accuracy.rmse(pred_svd)\n",
    "print('SVD RMSE:', rmse_svd)"
   ]
  },
  {
   "cell_type": "code",
   "execution_count": 9,
   "metadata": {},
   "outputs": [],
   "source": [
    "def precision_recall(predictions, k=10, threshold=3.5):\n",
    "    user_est_true = defaultdict(list)\n",
    "    for uid, iid, true_r, est, _ in predictions:\n",
    "        user_est_true[uid].append((iid, est, true_r))\n",
    "    precisions = []\n",
    "    recalls = []\n",
    "    \n",
    "    for uid, user_ratings in user_est_true.items():\n",
    "        user_ratings.sort(key=lambda x: x[1], reverse=True)\n",
    "        n_rel = sum((true_r >= threshold) for (_, _, true_r) in user_ratings)\n",
    "        n_rec_k = sum((true_r >= threshold) for (_, _, true_r) in user_ratings[:k])\n",
    "        \n",
    "        if k > 0:\n",
    "            precision = n_rec_k / k\n",
    "        else:\n",
    "            precision = 1\n",
    "        if n_rel != 0:\n",
    "            recall = n_rec_k / n_rel\n",
    "        else:\n",
    "            recall = 1\n",
    "        precisions.append(precision)\n",
    "        recalls.append(recall)\n",
    "    mean_precision = np.mean(precisions)\n",
    "    mean_recall = np.mean(recalls)\n",
    "    return mean_precision, mean_recall"
   ]
  },
  {
   "cell_type": "markdown",
   "metadata": {},
   "source": [
    "### Data Sparsity"
   ]
  },
  {
   "cell_type": "code",
   "execution_count": 10,
   "metadata": {},
   "outputs": [
    {
     "name": "stdout",
     "output_type": "stream",
     "text": [
      "==========Data fraction: 0.1==========\n",
      "Computing the cosine similarity matrix...\n",
      "Done computing similarity matrix.\n",
      "RMSE: 0.8191\n",
      "==========Data fraction: 0.3==========\n",
      "Computing the cosine similarity matrix...\n",
      "Done computing similarity matrix.\n",
      "RMSE: 0.8278\n",
      "==========Data fraction: 0.5==========\n",
      "Computing the cosine similarity matrix...\n",
      "Done computing similarity matrix.\n",
      "RMSE: 0.9249\n",
      "==========Data fraction: 0.7==========\n",
      "Computing the cosine similarity matrix...\n",
      "Done computing similarity matrix.\n",
      "RMSE: 0.9391\n",
      "Sparsity Analysis\n",
      "Fraction: 0.1, RMSE: 0.8190706644723327, Precision: 0.0962264150943396, Recall: 1.0\n",
      "Fraction: 0.3, RMSE: 0.827847621451401, Precision: 0.09579831932773111, Recall: 1.0\n",
      "Fraction: 0.5, RMSE: 0.9249435575855631, Precision: 0.09432534678436318, Recall: 1.0\n",
      "Fraction: 0.7, RMSE: 0.9391025585491617, Precision: 0.09450450450450448, Recall: 1.0\n"
     ]
    }
   ],
   "source": [
    "fractions = [0.1, 0.3, 0.5, 0.7]\n",
    "results_rmse = {}\n",
    "results_prec = {}\n",
    "results_recall = {}\n",
    "\n",
    "for f in fractions:\n",
    "    print(f'==========Data fraction: {f}==========')\n",
    "    df_sample = df_book.sample(frac=f, random_state=21)\n",
    "    dataset_sample = Dataset.load_from_df(df_sample, reader)\n",
    "    train_set_sample, test_set_sample = train_test_split(dataset_sample, test_size=0.2, random_state=21)\n",
    "    \n",
    "    model_knn = KNNBasic(sim_options=sim_options)\n",
    "    model_knn.fit(train_set_sample)\n",
    "    pred_knn = model_knn.test(test_set_sample)\n",
    "    \n",
    "    rmse_knn = accuracy.rmse(pred_knn)\n",
    "    results_rmse[f] = rmse_knn\n",
    "    \n",
    "    p_val, r_val = precision_recall(pred_knn, k=10, threshold=3.5)\n",
    "    results_prec[f] = p_val\n",
    "    results_recall[f] = r_val\n",
    "\n",
    "print(\"Sparsity Analysis\")\n",
    "for f in fractions:\n",
    "    print(f\"Fraction: {f}, RMSE: {results_rmse[f]}, Precision: {results_prec[f]}, Recall: {results_recall[f]}\")"
   ]
  },
  {
   "cell_type": "markdown",
   "metadata": {},
   "source": [
    "### Item Popularity"
   ]
  },
  {
   "cell_type": "code",
   "execution_count": 11,
   "metadata": {},
   "outputs": [],
   "source": [
    "df_itempop = pd.read_csv('Amazon_Books_Scraping/Books_df.csv')\n",
    "df_itempop.insert(0, 'book_id', range(len(book)))\n",
    "\n",
    "df_itempop = df_itempop[['book_id', 'Main Genre', 'Rating']]\n",
    "data_itempop = Dataset.load_from_df(df_itempop, reader)\n",
    "train_set_ip, test_set_ip = train_test_split(data_itempop, test_size=0.2, random_state=42)"
   ]
  },
  {
   "cell_type": "code",
   "execution_count": 12,
   "metadata": {},
   "outputs": [],
   "source": [
    "train_items = collections.defaultdict(int)\n",
    "\n",
    "for uid, iid, rating in train_set.all_ratings():\n",
    "    raw_iid = train_set.to_raw_iid(int(iid))\n",
    "    train_items[raw_iid] += 1"
   ]
  },
  {
   "cell_type": "code",
   "execution_count": 13,
   "metadata": {},
   "outputs": [
    {
     "name": "stdout",
     "output_type": "stream",
     "text": [
      "Number of popular items: 6\n"
     ]
    }
   ],
   "source": [
    "sorted_items = sorted(train_items.items(), key=lambda x: x[1], reverse=True)\n",
    "num_popular_items = math.ceil(0.2 * len(sorted_items))\n",
    "popular_item_ids = set([item[0] for item in sorted_items[:num_popular_items]])\n",
    "\n",
    "print(f\"Number of popular items: {num_popular_items}\")"
   ]
  },
  {
   "cell_type": "code",
   "execution_count": 14,
   "metadata": {},
   "outputs": [
    {
     "name": "stdout",
     "output_type": "stream",
     "text": [
      "Computing the cosine similarity matrix...\n",
      "Done computing similarity matrix.\n",
      "RMSE: 0.4443\n",
      "RMSE: 0.4283\n",
      "RMSE: 0.4639\n",
      "Item Popularity Bias Analysis\n",
      "Overall RMSE: 0.4442858597187124, Precision: 0.09407313997477931, Recall: 1.0\n",
      "Popular Items RMSE: 0.42825024831070246, Precision: 0.09436936936936938, Recall: 1.0\n",
      "Long-tail Items RMSE: 0.46388596705932467, Precision: 0.09369627507163322, Recall: 1.0\n"
     ]
    }
   ],
   "source": [
    "model_knn_pop = KNNBasic(sim_options=sim_options)\n",
    "model_knn_pop.fit(train_set)\n",
    "pred_knn_pop = model_knn_pop.test(test_set_ip)\n",
    "\n",
    "rmse_all = accuracy.rmse(pred_knn_pop)\n",
    "p_all, r_all = precision_recall(pred_knn_pop, k=10, threshold=3.5)\n",
    "\n",
    "preds_popular = []\n",
    "preds_longtail = []\n",
    "\n",
    "for p in pred_knn_pop:\n",
    "    if p.iid in popular_item_ids:\n",
    "        preds_popular.append(p)\n",
    "    else:\n",
    "        preds_longtail.append(p)\n",
    "        \n",
    "rmse_popular = accuracy.rmse(preds_popular)\n",
    "p_pop, r_pop = precision_recall(preds_popular, k=10, threshold=3.5)\n",
    "rmse_longtail = accuracy.rmse(preds_longtail)\n",
    "p_long, r_long = precision_recall(preds_longtail, k=10, threshold=3.5)\n",
    "\n",
    "print(\"Item Popularity Bias Analysis\")\n",
    "print(f\"Overall RMSE: {rmse_all}, Precision: {p_all}, Recall: {r_all}\")\n",
    "print(f\"Popular Items RMSE: {rmse_popular}, Precision: {p_pop}, Recall: {r_pop}\")\n",
    "print(f\"Long-tail Items RMSE: {rmse_longtail}, Precision: {p_long}, Recall: {r_long}\")"
   ]
  },
  {
   "cell_type": "markdown",
   "metadata": {},
   "source": [
    "### Cold start"
   ]
  },
  {
   "cell_type": "code",
   "execution_count": 15,
   "metadata": {},
   "outputs": [],
   "source": [
    "df_cold = pd.read_csv('Amazon_Books_Scraping/Books_df.csv')\n",
    "df_cold.insert(0, 'book_id', range(len(book)))\n",
    "\n",
    "df_cold = df_cold[['book_id', 'Main Genre', 'Rating']]"
   ]
  },
  {
   "cell_type": "code",
   "execution_count": 16,
   "metadata": {},
   "outputs": [],
   "source": [
    "data_cold = Dataset.load_from_df(df_cold, reader)\n",
    "train_set_cold, test_set_cold = train_test_split(data_cold, test_size=0.2, random_state=21)"
   ]
  },
  {
   "cell_type": "code",
   "execution_count": 17,
   "metadata": {},
   "outputs": [],
   "source": [
    "test_df_cold = pd.DataFrame(test_set_cold, columns=['book_id', 'Main Genre', 'Rating'])\n",
    "new_book = [\n",
    "    (7928,'Action & Adventure',4)\n",
    "    ]\n",
    "\n",
    "new_users_df = pd.DataFrame(new_book, columns=['book_id', 'Main Genre', 'Rating'])\n",
    "test_df_cold = pd.concat([test_df_cold, new_users_df], ignore_index=True)"
   ]
  },
  {
   "cell_type": "code",
   "execution_count": 18,
   "metadata": {},
   "outputs": [
    {
     "name": "stdout",
     "output_type": "stream",
     "text": [
      "Computing the cosine similarity matrix...\n",
      "Done computing similarity matrix.\n",
      "RMSE: 0.8979\n",
      "RMSE: 0.2603\n",
      "RMSE: 0.8982\n",
      "Cold Start Analysis\n",
      "Overall RMSE: 0.8979220296467953, Precision: 0.09439193446754883, Recall: 1.0\n",
      "New Users RMSE: 0.2602806685588144, Precision: 0.1, Recall: 1.0\n",
      "Old Users RMSE: 0.8981812842972066, Precision: 0.09438839848675913, Recall: 1.0\n"
     ]
    }
   ],
   "source": [
    "test_set_new = list(test_df_cold[['book_id', 'Main Genre', 'Rating']].itertuples(index=False, name=None))\n",
    "\n",
    "model_knn_cold = KNNBasic(sim_options=sim_options)\n",
    "model_knn_cold.fit(train_set_cold)\n",
    "pred_knn_cold = model_knn_cold.test(test_set_new)\n",
    "rmse_knn_cold = accuracy.rmse(pred_knn_cold)\n",
    "\n",
    "new_user_ids = {7928}\n",
    "#filter out predictions for new users\n",
    "preds_new = [p for p in pred_knn_cold if p.uid in new_user_ids]\n",
    "preds_old = [p for p in pred_knn_cold if p.uid not in new_user_ids]\n",
    "\n",
    "rmse_new = accuracy.rmse(preds_new)\n",
    "rmse_old = accuracy.rmse(preds_old)\n",
    "\n",
    "p_all_cold, r_all_cold = precision_recall(pred_knn_cold, k=10, threshold=3.5)\n",
    "p_new, r_new = precision_recall(preds_new, k=10, threshold=3.5)\n",
    "p_old, r_old = precision_recall(preds_old, k=10, threshold=3.5)\n",
    "print(\"Cold Start Analysis\")\n",
    "print(f\"Overall RMSE: {rmse_knn_cold}, Precision: {p_all_cold}, Recall: {r_all_cold}\")\n",
    "print(f\"New Users RMSE: {rmse_new}, Precision: {p_new}, Recall: {r_new}\")\n",
    "print(f\"Old Users RMSE: {rmse_old}, Precision: {p_old}, Recall: {r_old}\")"
   ]
  }
 ],
 "metadata": {
  "kernelspec": {
   "display_name": "venv",
   "language": "python",
   "name": "python3"
  },
  "language_info": {
   "codemirror_mode": {
    "name": "ipython",
    "version": 3
   },
   "file_extension": ".py",
   "mimetype": "text/x-python",
   "name": "python",
   "nbconvert_exporter": "python",
   "pygments_lexer": "ipython3",
   "version": "3.11.2"
  }
 },
 "nbformat": 4,
 "nbformat_minor": 2
}
