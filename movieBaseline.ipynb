{
 "cells": [
  {
   "cell_type": "code",
   "execution_count": 12,
   "metadata": {},
   "outputs": [],
   "source": [
    "import pandas as pd\n",
    "from surprise import Dataset, Reader\n",
    "from surprise import SVD, KNNBasic, accuracy\n",
    "from surprise.model_selection import train_test_split"
   ]
  },
  {
   "cell_type": "markdown",
   "metadata": {},
   "source": [
    "If using anaconda, use ***conda install -c conda-forge scikit-surprise*** to install surprise package."
   ]
  },
  {
   "cell_type": "markdown",
   "metadata": {},
   "source": [
    "Surprise is *Simple Python Recommendation System Engine* it can use KNN as baseline model"
   ]
  },
  {
   "cell_type": "code",
   "execution_count": 7,
   "metadata": {},
   "outputs": [],
   "source": [
    "ratings = pd.read_csv(\n",
    "    'ml-1m/ratings.dat',\n",
    "    sep='::',\n",
    "    names=['user_id', 'movie_id', 'rating', 'timestamp'],\n",
    "    engine='python'\n",
    ")\n",
    "users = pd.read_csv(\n",
    "    'ml-1m/users.dat',\n",
    "    sep='::',\n",
    "    names=['user_id', 'gender', 'age', 'occupation', 'zip'],\n",
    "    engine='python'\n",
    ")\n",
    "movies = pd.read_csv(\n",
    "    'ml-1m/movies.dat',\n",
    "    sep='::',\n",
    "    names=['movie_id', 'title', 'genres'],\n",
    "    engine='python',\n",
    "    encoding='latin-1'\n",
    ")\n",
    "\n",
    "data = pd.merge(ratings, users, on='user_id', how='left')\n",
    "data = pd.merge(data, movies, on='movie_id', how='left')"
   ]
  },
  {
   "cell_type": "code",
   "execution_count": 10,
   "metadata": {},
   "outputs": [
    {
     "data": {
      "text/html": [
       "<div>\n",
       "<style scoped>\n",
       "    .dataframe tbody tr th:only-of-type {\n",
       "        vertical-align: middle;\n",
       "    }\n",
       "\n",
       "    .dataframe tbody tr th {\n",
       "        vertical-align: top;\n",
       "    }\n",
       "\n",
       "    .dataframe thead th {\n",
       "        text-align: right;\n",
       "    }\n",
       "</style>\n",
       "<table border=\"1\" class=\"dataframe\">\n",
       "  <thead>\n",
       "    <tr style=\"text-align: right;\">\n",
       "      <th></th>\n",
       "      <th>user_id</th>\n",
       "      <th>movie_id</th>\n",
       "      <th>rating</th>\n",
       "      <th>timestamp</th>\n",
       "      <th>gender</th>\n",
       "      <th>age</th>\n",
       "      <th>occupation</th>\n",
       "      <th>zip</th>\n",
       "      <th>title</th>\n",
       "      <th>genres</th>\n",
       "    </tr>\n",
       "  </thead>\n",
       "  <tbody>\n",
       "    <tr>\n",
       "      <th>0</th>\n",
       "      <td>1</td>\n",
       "      <td>1193</td>\n",
       "      <td>5</td>\n",
       "      <td>978300760</td>\n",
       "      <td>F</td>\n",
       "      <td>1</td>\n",
       "      <td>10</td>\n",
       "      <td>48067</td>\n",
       "      <td>One Flew Over the Cuckoo's Nest (1975)</td>\n",
       "      <td>Drama</td>\n",
       "    </tr>\n",
       "    <tr>\n",
       "      <th>1</th>\n",
       "      <td>1</td>\n",
       "      <td>661</td>\n",
       "      <td>3</td>\n",
       "      <td>978302109</td>\n",
       "      <td>F</td>\n",
       "      <td>1</td>\n",
       "      <td>10</td>\n",
       "      <td>48067</td>\n",
       "      <td>James and the Giant Peach (1996)</td>\n",
       "      <td>Animation|Children's|Musical</td>\n",
       "    </tr>\n",
       "    <tr>\n",
       "      <th>2</th>\n",
       "      <td>1</td>\n",
       "      <td>914</td>\n",
       "      <td>3</td>\n",
       "      <td>978301968</td>\n",
       "      <td>F</td>\n",
       "      <td>1</td>\n",
       "      <td>10</td>\n",
       "      <td>48067</td>\n",
       "      <td>My Fair Lady (1964)</td>\n",
       "      <td>Musical|Romance</td>\n",
       "    </tr>\n",
       "    <tr>\n",
       "      <th>3</th>\n",
       "      <td>1</td>\n",
       "      <td>3408</td>\n",
       "      <td>4</td>\n",
       "      <td>978300275</td>\n",
       "      <td>F</td>\n",
       "      <td>1</td>\n",
       "      <td>10</td>\n",
       "      <td>48067</td>\n",
       "      <td>Erin Brockovich (2000)</td>\n",
       "      <td>Drama</td>\n",
       "    </tr>\n",
       "    <tr>\n",
       "      <th>4</th>\n",
       "      <td>1</td>\n",
       "      <td>2355</td>\n",
       "      <td>5</td>\n",
       "      <td>978824291</td>\n",
       "      <td>F</td>\n",
       "      <td>1</td>\n",
       "      <td>10</td>\n",
       "      <td>48067</td>\n",
       "      <td>Bug's Life, A (1998)</td>\n",
       "      <td>Animation|Children's|Comedy</td>\n",
       "    </tr>\n",
       "  </tbody>\n",
       "</table>\n",
       "</div>"
      ],
      "text/plain": [
       "   user_id  movie_id  rating  timestamp gender  age  occupation    zip  \\\n",
       "0        1      1193       5  978300760      F    1          10  48067   \n",
       "1        1       661       3  978302109      F    1          10  48067   \n",
       "2        1       914       3  978301968      F    1          10  48067   \n",
       "3        1      3408       4  978300275      F    1          10  48067   \n",
       "4        1      2355       5  978824291      F    1          10  48067   \n",
       "\n",
       "                                    title                        genres  \n",
       "0  One Flew Over the Cuckoo's Nest (1975)                         Drama  \n",
       "1        James and the Giant Peach (1996)  Animation|Children's|Musical  \n",
       "2                     My Fair Lady (1964)               Musical|Romance  \n",
       "3                  Erin Brockovich (2000)                         Drama  \n",
       "4                    Bug's Life, A (1998)   Animation|Children's|Comedy  "
      ]
     },
     "execution_count": 10,
     "metadata": {},
     "output_type": "execute_result"
    }
   ],
   "source": [
    "data.head()"
   ]
  },
  {
   "cell_type": "markdown",
   "metadata": {},
   "source": [
    "### Setting up Recommendation system (Surprise)"
   ]
  },
  {
   "cell_type": "code",
   "execution_count": 13,
   "metadata": {},
   "outputs": [],
   "source": [
    "df_ratings = ratings[['user_id', 'movie_id', 'rating']].copy()\n",
    "reader = Reader(rating_scale=(1, 5))\n",
    "dataset = Dataset.load_from_df(df_ratings, reader)\n",
    "\n",
    "train_set, test_set = train_test_split(dataset, test_size=0.2, random_state=42)"
   ]
  },
  {
   "cell_type": "code",
   "execution_count": 14,
   "metadata": {},
   "outputs": [
    {
     "name": "stdout",
     "output_type": "stream",
     "text": [
      "Computing the cosine similarity matrix...\n",
      "Done computing similarity matrix.\n",
      "RMSE: 0.9988\n",
      "KNN RMSE: 0.9988005727431559\n"
     ]
    }
   ],
   "source": [
    "sim_options = {\n",
    "    'name': 'cosine',\n",
    "    'user_based': False\n",
    "}\n",
    "\n",
    "model_knn = KNNBasic(sim_options=sim_options)\n",
    "model_knn.fit(train_set)\n",
    "pred_knn = model_knn.test(test_set)\n",
    "rmse_knn = accuracy.rmse(pred_knn)\n",
    "print('KNN RMSE:', rmse_knn)"
   ]
  },
  {
   "cell_type": "code",
   "execution_count": 15,
   "metadata": {},
   "outputs": [
    {
     "name": "stdout",
     "output_type": "stream",
     "text": [
      "RMSE: 0.8731\n",
      "SVD RMSE: 0.8730587435087336\n"
     ]
    }
   ],
   "source": [
    "model_svd = SVD()\n",
    "model_svd.fit(train_set)\n",
    "pred_svd = model_svd.test(test_set)\n",
    "rmse_svd = accuracy.rmse(pred_svd)\n",
    "print('SVD RMSE:', rmse_svd)"
   ]
  },
  {
   "cell_type": "markdown",
   "metadata": {},
   "source": [
    "### Data Sparsity "
   ]
  },
  {
   "cell_type": "code",
   "execution_count": 19,
   "metadata": {},
   "outputs": [
    {
     "name": "stdout",
     "output_type": "stream",
     "text": [
      "Computing the cosine similarity matrix...\n",
      "Done computing similarity matrix.\n",
      "RMSE: 1.0994\n",
      "Computing the cosine similarity matrix...\n",
      "Done computing similarity matrix.\n",
      "RMSE: 1.0479\n",
      "Computing the cosine similarity matrix...\n",
      "Done computing similarity matrix.\n",
      "RMSE: 1.0206\n",
      "Computing the cosine similarity matrix...\n",
      "Done computing similarity matrix.\n",
      "RMSE: 1.0090\n",
      "Fraction: 0.1 RMSE: 1.0994407902790586\n",
      "Fraction: 0.3 RMSE: 1.0479165161276993\n",
      "Fraction: 0.5 RMSE: 1.020628624860206\n",
      "Fraction: 0.7 RMSE: 1.0090022068848437\n"
     ]
    }
   ],
   "source": [
    "fractions = [0.1, 0.3, 0.5, 0.7]\n",
    "results = {}\n",
    "\n",
    "for f in fractions:\n",
    "    df_sample = df_ratings.sample(frac=f, random_state=42)\n",
    "    dataset_sample = Dataset.load_from_df(df_sample, reader)\n",
    "    train_set_sample, test_set_sample = train_test_split(dataset_sample, test_size=0.2, random_state=42)\n",
    "    \n",
    "    model_knn = KNNBasic(sim_options=sim_options)\n",
    "    model_knn.fit(train_set_sample)\n",
    "    pred_knn = model_knn.test(test_set_sample)\n",
    "    rmse_knn = accuracy.rmse(pred_knn)\n",
    "    results[f] = rmse_knn\n",
    "\n",
    "for f,val in results.items():\n",
    "    print(f'Fraction: {f} RMSE: {val}')\n"
   ]
  },
  {
   "cell_type": "markdown",
   "metadata": {},
   "source": [
    "### Cold start"
   ]
  },
  {
   "cell_type": "code",
   "execution_count": 31,
   "metadata": {},
   "outputs": [],
   "source": [
    "df = pd.read_csv(\n",
    "    'ml-1m/ratings.dat',\n",
    "    sep='::',\n",
    "    names=['user_id', 'movie_id', 'rating', 'timestamp'],\n",
    "    engine='python'\n",
    ")\n",
    "\n",
    "df = df[['user_id', 'movie_id', 'rating']] # drop timestamp for now"
   ]
  },
  {
   "cell_type": "code",
   "execution_count": 32,
   "metadata": {},
   "outputs": [],
   "source": [
    "reader = Reader(rating_scale=(1, 5))\n",
    "data = Dataset.load_from_df(df, reader)\n",
    "train_set, test_set = train_test_split(data, test_size=0.2, random_state=42)"
   ]
  },
  {
   "cell_type": "code",
   "execution_count": 35,
   "metadata": {},
   "outputs": [],
   "source": [
    "test_df = pd.DataFrame(test_set, columns=['user_id', 'movie_id', 'rating'])\n",
    "new_users = [\n",
    "    (6041,1,5),\n",
    "    (6041,50,1),\n",
    "    (6042,10,1),\n",
    "    (6042,100,5),\n",
    "    (6043,33,2),\n",
    "    (6043,55,5),\n",
    "    (6044,66,1),\n",
    "    (6044,77,5)     \n",
    "    ]\n",
    "\n",
    "new_users_df = pd.DataFrame(new_users, columns=['user_id', 'movie_id', 'rating'])\n",
    "test_df = pd.concat([test_df, new_users_df], ignore_index=True)\n"
   ]
  },
  {
   "cell_type": "code",
   "execution_count": 36,
   "metadata": {},
   "outputs": [
    {
     "name": "stdout",
     "output_type": "stream",
     "text": [
      "Computing the cosine similarity matrix...\n",
      "Done computing similarity matrix.\n",
      "RMSE: 0.9989\n",
      "RMSE: 1.9539\n",
      "RMSE: 0.9988\n",
      "RMSE for new users: 1.9539083898500522\n",
      "RMSE for old users: 0.9988005727431559\n"
     ]
    }
   ],
   "source": [
    "test_set_new = list(test_df[['user_id', 'movie_id', 'rating']].itertuples(index=False, name=None))\n",
    "\n",
    "model_knn = KNNBasic(sim_options=sim_options)\n",
    "model_knn.fit(train_set)\n",
    "pred_knn = model_knn.test(test_set_new)\n",
    "rmse_knn = accuracy.rmse(pred_knn)\n",
    "\n",
    "new_user_ids = {6041, 6042, 6043, 6044}\n",
    "#filter out predictions for new users\n",
    "preds_new = [p for p in pred_knn if p.uid in new_user_ids]\n",
    "preds_old = [p for p in pred_knn if p.uid not in new_user_ids]\n",
    "\n",
    "rmse_new = accuracy.rmse(preds_new)\n",
    "rmse_old = accuracy.rmse(preds_old)\n",
    "print('RMSE for new users:', rmse_new)\n",
    "print('RMSE for old users:', rmse_old)"
   ]
  },
  {
   "cell_type": "code",
   "execution_count": null,
   "metadata": {},
   "outputs": [],
   "source": []
  }
 ],
 "metadata": {
  "kernelspec": {
   "display_name": "ece1786",
   "language": "python",
   "name": "python3"
  },
  "language_info": {
   "codemirror_mode": {
    "name": "ipython",
    "version": 3
   },
   "file_extension": ".py",
   "mimetype": "text/x-python",
   "name": "python",
   "nbconvert_exporter": "python",
   "pygments_lexer": "ipython3",
   "version": "3.10.14"
  }
 },
 "nbformat": 4,
 "nbformat_minor": 2
}
